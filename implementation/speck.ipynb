{
 "cells": [
  {
   "cell_type": "code",
   "execution_count": 85,
   "metadata": {},
   "outputs": [],
   "source": [
    "import random\n",
    "N = 32 # word length\n",
    "M = 4  # num of words in the key\n",
    "T = 27 # num of rounds necessary\n",
    "j = 3\n",
    "a=8\n",
    "b=3\n",
    "\n",
    "z = [0b01100111000011010100100010111110110011100001101010010001011111,\n",
    "       0b01011010000110010011111011100010101101000011001001111101110001,\n",
    "       0b11001101101001111110001000010100011001001011000000111011110101,\n",
    "       0b11110000101100111001010001001000000111101001100011010111011011,\n",
    "       0b11110111001001010011000011101000000100011011010110011110001011]\n",
    "%run utilities.ipynb"
   ]
  },
  {
   "cell_type": "code",
   "execution_count": 97,
   "metadata": {},
   "outputs": [],
   "source": [
    "def speck_round(x,y,round_key):\n",
    "    k = round_key\n",
    "    tmp = right_shift(x,a)\n",
    "    outX = add_modulo(tmp,y,N) ^ k\n",
    "    outY = left_shift(y,b) ^ outX\n",
    "    return outX,outY\n",
    "\n",
    "def inv_speck_round(x,y,round_key):\n",
    "    k = round_key\n",
    "    outY = right_shift(x^y,b)\n",
    "    tmp = add_modulo(x ^ k,-outY,N)\n",
    "    outX = left_shift(tmp,a)\n",
    "    return outX,outY\n",
    "\n",
    "def speck_encrypt_block(x,y,key):\n",
    "    for i in range(T):\n",
    "        x,y = speck_round(x,y,key[i])\n",
    "    return x,y\n",
    "\n",
    "def speck_decrypt_block(x,y,key):\n",
    "    for i in reversed(range(T)):\n",
    "        x,y = inv_speck_round(x,y,key[i])\n",
    "    return x,y\n",
    "\n",
    "def speck_encrypt(plain_integer,master_key):\n",
    "    cipher_integer = []\n",
    "    key = speck_keygen(master_key)\n",
    "    for elem in plain_integer:\n",
    "        cipher_integer.append((speck_encrypt_block(elem[0],elem[1],key )))\n",
    "    return cipher_integer    \n",
    "\n",
    "def speck_decrypt(cipher_integer,master_key):\n",
    "    decrypt_integer = []\n",
    "    key = speck_keygen(master_key)\n",
    "    for elem in cipher_integer:\n",
    "        decrypt_integer.append((speck_decrypt_block(elem[0],elem[1],key)))\n",
    "    return decrypt_integer\n",
    "\n",
    "def speck_keygen(master_key):\n",
    "    master_key_array = split_4N(master_key)\n",
    "    k = []\n",
    "    l = []\n",
    "    k+=master_key_array[0:1]\n",
    "    l+= master_key_array[1:]\n",
    "    for i in range(T-1):\n",
    "        tmp = add_modulo(k[i],right_shift(l[i],a),N)\n",
    "        tmp = tmp^i\n",
    "        l.append(tmp)\n",
    "        tmp = left_shift(k[i],b) ^l[i+M-1]\n",
    "        k.append(tmp)\n",
    "    \n",
    "    return k\n",
    "        \n"
   ]
  },
  {
   "cell_type": "code",
   "execution_count": 101,
   "metadata": {},
   "outputs": [],
   "source": [
    "plain_text = \"hello, this is secret message\"\n",
    "key = random.getrandbits(128)\n",
    "plain_integer = string2input(plain_text)\n",
    "cipher_integer = speck_encrypt(plain_integer,key)\n",
    "decrypt_integer = speck_decrypt(cipher_integer,key)\n",
    "decrypted_text = output2string(decrypt_integer)\n",
    "print(decrypted_text)"
   ]
  }
 ],
 "metadata": {
  "kernelspec": {
   "display_name": "Python 3",
   "language": "python",
   "name": "python3"
  },
  "language_info": {
   "codemirror_mode": {
    "name": "ipython",
    "version": 3
   },
   "file_extension": ".py",
   "mimetype": "text/x-python",
   "name": "python",
   "nbconvert_exporter": "python",
   "pygments_lexer": "ipython3",
   "version": "3.7.7"
  }
 },
 "nbformat": 4,
 "nbformat_minor": 4
}
