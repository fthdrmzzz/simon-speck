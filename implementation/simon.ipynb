{
 "cells": [
  {
   "cell_type": "code",
   "execution_count": 2,
   "metadata": {},
   "outputs": [],
   "source": [
    "\n",
    "# Simon 64/128 implementation\n",
    "import random\n",
    "N = 32 # word length\n",
    "M = 4  # num of words in the key\n",
    "R = 27 \n",
    "T = 44 # num of rounds necessary\n",
    "j = 3\n",
    "\n",
    "z = [0b01100111000011010100100010111110110011100001101010010001011111,\n",
    "       0b01011010000110010011111011100010101101000011001001111101110001,\n",
    "       0b11001101101001111110001000010100011001001011000000111011110101,\n",
    "       0b11110000101100111001010001001000000111101001100011010111011011,\n",
    "       0b11110111001001010011000011101000000100011011010110011110001011]\n",
    "%run utilities.ipynb"
   ]
  },
  {
   "cell_type": "code",
   "execution_count": 3,
   "metadata": {},
   "outputs": [
    {
     "name": "stdout",
     "output_type": "stream",
     "text": [
      "0b1\n"
     ]
    }
   ],
   "source": [
    "print(bin(0b01))"
   ]
  },
  {
   "cell_type": "code",
   "execution_count": 4,
   "metadata": {},
   "outputs": [],
   "source": [
    "#--------------- Simon Core ---------------#\n",
    "# F function defined in the documentation. \n",
    "def f(x):\n",
    "    return (left_shift(x,1) & left_shift(x,8)) ^ left_shift(x,2)\n",
    "\n",
    "# x is left word of plain_state\n",
    "# y is right word of plain_state\n",
    "# k is generated round key. should be 2 words.\n",
    "def simon_round(x,y, k):\n",
    "    out_x = (y ^ f(x) ^ k)\n",
    "    out_y = x\n",
    "    return out_x, out_y\n",
    "\n",
    "def simon_encrypt_block(plain_text,master_key):\n",
    "    x,y = split_2N(plain_text)\n",
    "    k = simon_keygen(master_key)\n",
    "    for i in range(T):\n",
    "        x,y = simon_round(x,y,k[i])\n",
    "        print(x,y)\n",
    "    return x,y\n",
    "\n",
    "def simon_decrypt_block(cipX,cipY, master_key):\n",
    "    k = simon_keygen(master_key)\n",
    "    for i in reversed(range(T)):\n",
    "        cipY,cipX = simon_round(cipY,cipX,k[i])\n",
    "    return cipX,cipY\n",
    "        \n",
    "# from master key generates 76 keys.\n",
    "# master key is nm\n",
    "def simon_keygen(master_key):\n",
    "    k = split_4N(master_key)\n",
    "    for i in range(M,T):\n",
    "        tmp = left_shift(k[i-1],3)\n",
    "        if(M==4):\n",
    "            tmp = tmp ^ k[i-3]\n",
    "        tmp = tmp ^ left_shift(tmp,1)\n",
    "        k.append(  ~k[i-M] ^ tmp ^ get_nth_bit(z[j],((i-M) % 62)) ^ 3)\n",
    "    return k\n",
    "        \n",
    "    \n",
    "\n"
   ]
  },
  {
   "cell_type": "code",
   "execution_count": 5,
   "metadata": {},
   "outputs": [
    {
     "name": "stdout",
     "output_type": "stream",
     "text": [
      "2163273968 4042322160\n"
     ]
    }
   ],
   "source": [
    "plain_text = 0b1000000011110000111100001111000011110000111100001111000011110000\n",
    "key = random.getrandbits(128)\n",
    "#keylist = simon_keygen(key)\n",
    "x,y = split_2N(plain_text)\n",
    "print(x,y)\n",
    "cipX,cipY = simon_round(x,y,key)"
   ]
  },
  {
   "cell_type": "code",
   "execution_count": 6,
   "metadata": {},
   "outputs": [
    {
     "name": "stdout",
     "output_type": "stream",
     "text": [
      "2163273968 4042322160\n"
     ]
    }
   ],
   "source": [
    "plainY,plainX = simon_round(cipY,cipX,key)\n",
    "print(plainX, plainY)"
   ]
  },
  {
   "cell_type": "code",
   "execution_count": 10,
   "metadata": {},
   "outputs": [
    {
     "name": "stdout",
     "output_type": "stream",
     "text": [
      "3569345253 2163273968\n",
      "1550510789 3569345253\n",
      "3289238865 1550510789\n",
      "4293967182 3289238865\n",
      "-3798927787 4293967182\n",
      "-2435754087 -3798927787\n",
      "269630172 -2435754087\n",
      "300017830 269630172\n",
      "3962985801 300017830\n",
      "4274887491 3962985801\n",
      "2508819604 4274887491\n",
      "1180147267 2508819604\n",
      "-2228415991 1180147267\n",
      "-1190932178 -2228415991\n",
      "746353845 -1190932178\n",
      "1566331593 746353845\n",
      "1282045660 1566331593\n",
      "2803510850 1282045660\n",
      "2641511975 2803510850\n",
      "1254406453 2641511975\n",
      "-2364999584 1254406453\n",
      "-3458931516 -2364999584\n",
      "1643136452 -3458931516\n",
      "3789207724 1643136452\n",
      "386200981 3789207724\n",
      "1230215926 386200981\n",
      "560231536 1230215926\n",
      "2787875991 560231536\n",
      "-1821064872 2787875991\n",
      "-1461467015 -1821064872\n",
      "1200510720 -1461467015\n",
      "2322048758 1200510720\n",
      "2761645180 2322048758\n",
      "3141700701 2761645180\n",
      "1067831039 3141700701\n",
      "2438067469 1067831039\n",
      "-3627116359 2438067469\n",
      "-264056168 -3627116359\n",
      "491717522 -264056168\n",
      "1742430226 491717522\n",
      "1212522419 1742430226\n",
      "401372055 1212522419\n",
      "1691353931 401372055\n",
      "1557589607 1691353931\n"
     ]
    }
   ],
   "source": [
    "cipX,cipY = simon_encrypt_block(plain_text,key)"
   ]
  },
  {
   "cell_type": "code",
   "execution_count": 11,
   "metadata": {},
   "outputs": [
    {
     "name": "stdout",
     "output_type": "stream",
     "text": [
      "1557589607 1691353931\n",
      "\n",
      "1691353931 401372055\n",
      "401372055 1212522419\n",
      "1212522419 1742430226\n",
      "1742430226 491717522\n",
      "491717522 -264056168\n",
      "-264056168 -3627116359\n",
      "-3627116359 2438067469\n",
      "2438067469 1067831039\n",
      "1067831039 3141700701\n",
      "3141700701 2761645180\n",
      "2761645180 2322048758\n",
      "2322048758 1200510720\n",
      "1200510720 -1461467015\n",
      "-1461467015 -1821064872\n",
      "-1821064872 2787875991\n",
      "2787875991 560231536\n",
      "560231536 1230215926\n",
      "1230215926 386200981\n",
      "386200981 3789207724\n",
      "3789207724 1643136452\n",
      "1643136452 -3458931516\n",
      "-3458931516 -2364999584\n",
      "-2364999584 1254406453\n",
      "1254406453 2641511975\n",
      "2641511975 2803510850\n",
      "2803510850 1282045660\n",
      "1282045660 1566331593\n",
      "1566331593 746353845\n",
      "746353845 -1190932178\n",
      "-1190932178 -2228415991\n",
      "-2228415991 1180147267\n",
      "1180147267 2508819604\n",
      "2508819604 4274887491\n",
      "4274887491 3962985801\n",
      "3962985801 300017830\n",
      "300017830 269630172\n",
      "269630172 -2435754087\n",
      "-2435754087 -3798927787\n",
      "-3798927787 4293967182\n",
      "4293967182 3289238865\n",
      "3289238865 1550510789\n",
      "1550510789 3569345253\n",
      "3569345253 2163273968\n",
      "2163273968 4042322160\n"
     ]
    }
   ],
   "source": [
    "print(cipX, cipY)\n",
    "print()\n",
    "simon_decrypt_block(cipX,cipY,key)"
   ]
  },
  {
   "cell_type": "code",
   "execution_count": 9,
   "metadata": {},
   "outputs": [
    {
     "data": {
      "text/plain": [
       "[0, 1, 2, 3]"
      ]
     },
     "execution_count": 9,
     "metadata": {},
     "output_type": "execute_result"
    }
   ],
   "source": [
    "list(range(4))"
   ]
  },
  {
   "cell_type": "code",
   "execution_count": 25,
   "metadata": {},
   "outputs": [
    {
     "data": {
      "text/plain": [
       "[3, 2, 1, 0]"
      ]
     },
     "execution_count": 25,
     "metadata": {},
     "output_type": "execute_result"
    }
   ],
   "source": [
    "list(reversed(range(4)))"
   ]
  },
  {
   "cell_type": "code",
   "execution_count": 26,
   "metadata": {},
   "outputs": [
    {
     "data": {
      "text/plain": [
       "'0b11100010101001001110011010001100111111100010111010011110101111101101011010001110011101000100010000111100011011010000011110111110'"
      ]
     },
     "execution_count": 26,
     "metadata": {},
     "output_type": "execute_result"
    }
   ],
   "source": [
    "bin(key)"
   ]
  },
  {
   "cell_type": "code",
   "execution_count": 27,
   "metadata": {},
   "outputs": [
    {
     "name": "stdout",
     "output_type": "stream",
     "text": [
      "[3802457740, 4264468158, 3599660100, 1013778366]\n",
      "32\n",
      "0b11100010101001001110011010001100\n",
      "32\n",
      "0b11111110001011101001111010111110\n",
      "32\n",
      "0b11010110100011100111010001000100\n",
      "30\n",
      "0b111100011011010000011110111110\n"
     ]
    }
   ],
   "source": [
    "x = split_4N(key)\n",
    "print(x)\n",
    "for elem in x:\n",
    "    print(elem.bit_length())\n",
    "    print(bin(elem))"
   ]
  }
 ],
 "metadata": {
  "kernelspec": {
   "display_name": "Python 3",
   "language": "python",
   "name": "python3"
  },
  "language_info": {
   "codemirror_mode": {
    "name": "ipython",
    "version": 3
   },
   "file_extension": ".py",
   "mimetype": "text/x-python",
   "name": "python",
   "nbconvert_exporter": "python",
   "pygments_lexer": "ipython3",
   "version": "3.7.7"
  }
 },
 "nbformat": 4,
 "nbformat_minor": 4
}
