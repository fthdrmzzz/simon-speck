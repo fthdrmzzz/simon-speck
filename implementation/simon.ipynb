{
 "cells": [
  {
   "cell_type": "code",
   "execution_count": 33,
   "metadata": {},
   "outputs": [],
   "source": [
    "\n",
    "# Simon 64/128 implementation\n",
    "import random\n",
    "N = 32 # word length\n",
    "M = 4  # num of words in the key\n",
    "R = 27 \n",
    "T = 44 # num of rounds necessary\n",
    "j = 3\n",
    "\n",
    "z = [0b01100111000011010100100010111110110011100001101010010001011111,\n",
    "       0b01011010000110010011111011100010101101000011001001111101110001,\n",
    "       0b11001101101001111110001000010100011001001011000000111011110101,\n",
    "       0b11110000101100111001010001001000000111101001100011010111011011,\n",
    "       0b11110111001001010011000011101000000100011011010110011110001011]\n",
    "%run utilities.ipynb"
   ]
  },
  {
   "cell_type": "code",
   "execution_count": 34,
   "metadata": {},
   "outputs": [],
   "source": [
    "#--------------- Simon Core ---------------#\n",
    "# F function defined in the documentation. \n",
    "def f(x):\n",
    "    return (left_shift(x,1) & left_shift(x,8)) ^ left_shift(x,2)\n",
    "\n",
    "# x is left word of plain_state\n",
    "# y is right word of plain_state\n",
    "# k is generated round key. should be 2 words.\n",
    "def simon_round(x,y, k):\n",
    "    out_x = (y ^ f(x) ^ k)\n",
    "    out_y = x\n",
    "    return out_x, out_y\n",
    "\n",
    "def simon_encrypt_block(x,y,key):\n",
    "    key\n",
    "    for i in range(T):\n",
    "        x,y = simon_round(x,y,key[i])\n",
    "    return x,y\n",
    "\n",
    "def simon_decrypt_block(cipX,cipY, key):\n",
    "    key \n",
    "    for i in reversed(range(T)):\n",
    "        cipY,cipX = simon_round(cipY,cipX,key[i])\n",
    "    return cipX,cipY\n",
    "\n",
    "def simon_encrypt(plain_integer,master_key):\n",
    "    cipher_integer = []\n",
    "    key = simon_keygen(master_key)\n",
    "    for elem in plain_integer:\n",
    "        cipher_integer.append((simon_encrypt_block(elem[0],elem[1],key)))\n",
    "    return cipher_integer    \n",
    "\n",
    "def simon_decrypt(cipher_integer,master_key):\n",
    "    decrypt_integer = []\n",
    "    key = simon_keygen(master_key)\n",
    "    for elem in cipher_integer:\n",
    "        decrypt_integer.append((simon_decrypt_block(elem[0],elem[1],key)))\n",
    "    return decrypt_integer     \n",
    "# from master key generates 76 keys.\n",
    "# master key is nm\n",
    "def simon_keygen(master_key):\n",
    "    k = split_4N(master_key)\n",
    "    for i in range(M,T):\n",
    "        tmp = left_shift(k[i-1],3)\n",
    "        if(M==4):\n",
    "            tmp = tmp ^ k[i-3]\n",
    "        tmp = tmp ^ left_shift(tmp,1)\n",
    "        k.append(  ~k[i-M] ^ tmp ^ get_nth_bit(z[j],((i-M) % 62)) ^ 3)\n",
    "    return k\n",
    "        \n",
    "    \n",
    "\n"
   ]
  },
  {
   "cell_type": "code",
   "execution_count": 35,
   "metadata": {},
   "outputs": [
    {
     "name": "stdout",
     "output_type": "stream",
     "text": [
      "hello, this is secret message\n"
     ]
    }
   ],
   "source": [
    "plain_text = \"hello, this is secret message\"\n",
    "key = random.getrandbits(128)\n",
    "plain_integer = string2input(plain_text)\n",
    "cipher_integer = simon_encrypt(plain_integer,key)\n",
    "decrypt_integer = simon_decrypt(cipher_integer,key)\n",
    "decrypted_text = output2string(decrypt_integer)\n",
    "print(decrypted_text)"
   ]
  }
 ],
 "metadata": {
  "kernelspec": {
   "display_name": "Python 3",
   "language": "python",
   "name": "python3"
  },
  "language_info": {
   "codemirror_mode": {
    "name": "ipython",
    "version": 3
   },
   "file_extension": ".py",
   "mimetype": "text/x-python",
   "name": "python",
   "nbconvert_exporter": "python",
   "pygments_lexer": "ipython3",
   "version": "3.7.7"
  }
 },
 "nbformat": 4,
 "nbformat_minor": 4
}
